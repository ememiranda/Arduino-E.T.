{
 "cells": [
  {
   "cell_type": "markdown",
   "metadata": {},
   "source": [
    "Cree un programa en que solicite la cantidad de kilogramos, en caso de ser negativa la cantidad debe multiplicarla por -1 y proceder con el nuevo número. Luego debe imprimir a cuantos quintales, piedras, libras y onzas corresponde los kilogramos ingresados, dando prioridad a las unidades de masa mayores, en el caso de las onzas puede corresponder a un numero decimal, el resto serán solo enteros.\n",
    "\n",
    "Unidad\tEquivalencia\n",
    "1 onza\t= 28,349 gramos\n",
    "1 libra\t= 16 onzas\n",
    "1 piedra = 14 libras\n",
    "1 quintal = 8 piedras\n",
    "\n",
    "\n",
    "K -> q, p, l, o \n",
    "\n",
    "OT= K / 28.349*1000\n",
    "\n",
    "LT = OT // 16\n",
    "\n",
    "O = OT - L * 16\n",
    "           // 14\n",
    "           \n",
    "           % 14\n",
    "           \n",
    "           // 8\n",
    "           % 8\n",
    "S -> H:M:S\n",
    "Mt = S/60"
   ]
  },
  {
   "cell_type": "code",
   "execution_count": 1,
   "metadata": {
    "collapsed": false
   },
   "outputs": [
    {
     "name": "stdout",
     "output_type": "stream",
     "text": [
      "Ingrese la cantidad de kilos:100\n"
     ]
    }
   ],
   "source": [
    "kilos=int(input('Ingrese la cantidad de kilos:'))"
   ]
  },
  {
   "cell_type": "code",
   "execution_count": 2,
   "metadata": {
    "collapsed": true
   },
   "outputs": [],
   "source": [
    "if (kilos<0): \n",
    "    kilos=-1*kilos "
   ]
  },
  {
   "cell_type": "code",
   "execution_count": 3,
   "metadata": {
    "collapsed": false
   },
   "outputs": [],
   "source": [
    "onzastotales=kilos/28.349*1000"
   ]
  },
  {
   "cell_type": "code",
   "execution_count": 4,
   "metadata": {
    "collapsed": true
   },
   "outputs": [],
   "source": [
    "librastotales=onzastotales//16"
   ]
  },
  {
   "cell_type": "code",
   "execution_count": 5,
   "metadata": {
    "collapsed": false
   },
   "outputs": [],
   "source": [
    "onzas=onzastotales-librastotales*16"
   ]
  },
  {
   "cell_type": "code",
   "execution_count": 6,
   "metadata": {
    "collapsed": true
   },
   "outputs": [],
   "source": [
    "libras=librastotales%14"
   ]
  },
  {
   "cell_type": "code",
   "execution_count": 8,
   "metadata": {
    "collapsed": false
   },
   "outputs": [],
   "source": [
    "piedrastotales=librastotales//14"
   ]
  },
  {
   "cell_type": "code",
   "execution_count": 9,
   "metadata": {
    "collapsed": true
   },
   "outputs": [],
   "source": [
    "quintal=piedrastotales//8"
   ]
  },
  {
   "cell_type": "code",
   "execution_count": 10,
   "metadata": {
    "collapsed": true
   },
   "outputs": [],
   "source": [
    "piedras=piedrastotales%8"
   ]
  },
  {
   "cell_type": "code",
   "execution_count": 11,
   "metadata": {
    "collapsed": false
   },
   "outputs": [
    {
     "name": "stdout",
     "output_type": "stream",
     "text": [
      "quint= 1.0 p= 7.0 l= 10.0 o= 7.461286112385096\n"
     ]
    }
   ],
   "source": [
    "print('quint=',quintal,'p=',piedras,'l=',libras,'o=',onzas)"
   ]
  }
 ],
 "metadata": {
  "kernelspec": {
   "display_name": "Python 3",
   "language": "python",
   "name": "python3"
  },
  "language_info": {
   "codemirror_mode": {
    "name": "ipython",
    "version": 3
   },
   "file_extension": ".py",
   "mimetype": "text/x-python",
   "name": "python",
   "nbconvert_exporter": "python",
   "pygments_lexer": "ipython3",
   "version": "3.6.0"
  }
 },
 "nbformat": 4,
 "nbformat_minor": 2
}
